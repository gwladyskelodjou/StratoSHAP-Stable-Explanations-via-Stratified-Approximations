{
 "cells": [
  {
   "cell_type": "markdown",
   "metadata": {},
   "source": [
    "# Experiments\n",
    "\n",
    "This notebook shows how to calculate explanations using StratoSHAP and all competitors we tested in our paper.\n",
    "\n",
    "- **Machine Learning Games** (on tabular datasets)\n",
    "- **Image Games** (using CNNs and superpixel masks)\n",
    "- **Classic Cooperative Games** (Shoes, Airport, Sum of Unanimity)\n",
    "\n",
    "The code uses the `start_experiment` function, which simplifies launching experiments across all game types.\n",
    "\n",
    "Results are saved in the `results` folder. The code is designed to be run in a Jupyter notebook, but can also be executed in a script."
   ]
  },
  {
   "cell_type": "markdown",
   "metadata": {},
   "source": [
    "## 1. Import Libraries and Setup"
   ]
  },
  {
   "cell_type": "code",
   "execution_count": 2,
   "metadata": {},
   "outputs": [],
   "source": [
    "from experiment_runner import *\n",
    "import utils.utils as utils\n",
    "import warnings\n",
    "warnings.filterwarnings(\"ignore\")"
   ]
  },
  {
   "cell_type": "markdown",
   "metadata": {},
   "source": [
    "## 2. Machine Learning Game"
   ]
  },
  {
   "cell_type": "markdown",
   "metadata": {},
   "source": [
    "### 2.1 Bank dataset with XGBoost "
   ]
  },
  {
   "cell_type": "code",
   "execution_count": null,
   "metadata": {},
   "outputs": [],
   "source": [
    "dataset_name = DatasetName.BANK.value\n",
    "total_stratum = total_stratum_number(dataset_name)\n",
    "\n",
    "budgets = []\n",
    "for i in range(1, total_stratum+1):\n",
    "    budgets.append(utils.stratum_instance_number(i, get_nb_features(dataset_name))+2)\n",
    "\n",
    "instance_ids = list(range(10))\n",
    "number_of_runs = 5\n",
    "\n",
    "for instance_id in instance_ids:\n",
    "    for method in Method:\n",
    "        start_experiment(\n",
    "            method=method,\n",
    "            game=Game.MACHINE_LEARNING_GAME,\n",
    "            model=ModelName.XGB,\n",
    "            dataset=DatasetName.BANK,\n",
    "            budgets=budgets,\n",
    "            instance_id=instance_id,\n",
    "            number_of_runs=number_of_runs\n",
    "        )"
   ]
  },
  {
   "cell_type": "markdown",
   "metadata": {},
   "source": [
    "### 2.2 Parkinsons dataset with MLP"
   ]
  },
  {
   "cell_type": "code",
   "execution_count": null,
   "metadata": {},
   "outputs": [],
   "source": [
    "dataset_name = DatasetName.PARKINSON.value\n",
    "total_stratum = total_stratum_number(dataset_name)\n",
    "\n",
    "budgets = []\n",
    "for i in range(1, total_stratum+1):\n",
    "    budgets.append(utils.stratum_instance_number(i, get_nb_features(dataset_name))+2)\n",
    "\n",
    "instance_ids = list(range(10))\n",
    "number_of_runs = 5\n",
    "\n",
    "for instance_id in instance_ids:\n",
    "    for method in Method:\n",
    "        start_experiment(\n",
    "            method=method,\n",
    "            game=Game.MACHINE_LEARNING_GAME,\n",
    "            model=ModelName.MLP,\n",
    "            dataset=DatasetName.PARKINSON,\n",
    "            budgets=budgets,\n",
    "            instance_id=instance_id,\n",
    "            number_of_runs=number_of_runs\n",
    "        )"
   ]
  },
  {
   "cell_type": "markdown",
   "metadata": {},
   "source": [
    "### 2.3 COMPAS dataset with SVM"
   ]
  },
  {
   "cell_type": "code",
   "execution_count": null,
   "metadata": {},
   "outputs": [],
   "source": [
    "dataset_name = DatasetName.COMPAS.value\n",
    "total_stratum = total_stratum_number(dataset_name)\n",
    "\n",
    "budgets = []\n",
    "for i in range(1, total_stratum+1):\n",
    "    budgets.append(utils.stratum_instance_number(i, get_nb_features(dataset_name))+2)\n",
    "\n",
    "instance_ids = list(range(10))\n",
    "number_of_runs = 5\n",
    "\n",
    "for instance_id in instance_ids:\n",
    "    for method in Method:\n",
    "        start_experiment(\n",
    "            method=method,\n",
    "            game=Game.MACHINE_LEARNING_GAME,\n",
    "            model=ModelName.SVM,\n",
    "            dataset=DatasetName.COMPAS,\n",
    "            budgets=budgets,\n",
    "            instance_id=instance_id,\n",
    "            number_of_runs=number_of_runs\n",
    "        )"
   ]
  },
  {
   "cell_type": "markdown",
   "metadata": {},
   "source": [
    "## 3. Image Game – ResNet50 on ImageNet50 Subset"
   ]
  },
  {
   "cell_type": "code",
   "execution_count": null,
   "metadata": {},
   "outputs": [],
   "source": [
    "dataset_name = \"img\"\n",
    "total_stratum = total_stratum_number(dataset_name)\n",
    "\n",
    "budgets = []\n",
    "for i in range(1, total_stratum+1):\n",
    "    budgets.append(utils.stratum_instance_number(i, get_nb_features(dataset_name))+2)\n",
    "\n",
    "image_id = 0\n",
    "tile_size = 56\n",
    "img_dims = 224\n",
    "image_ids = list(range(10))\n",
    "number_of_runs = 5\n",
    "\n",
    "for image_id in image_ids:\n",
    "    for method in Method:\n",
    "        start_experiment(\n",
    "            method=method,\n",
    "            game=Game.IMAGE_GAME,\n",
    "            budgets=budgets,\n",
    "            number_of_runs=2,\n",
    "            image_id=image_id,\n",
    "            tile_size=tile_size,\n",
    "            img_dims=img_dims\n",
    "        )"
   ]
  },
  {
   "cell_type": "markdown",
   "metadata": {},
   "source": [
    "## 4. Classic Cooperative Games"
   ]
  },
  {
   "cell_type": "markdown",
   "metadata": {},
   "source": [
    "### 4.1 Airport Game"
   ]
  },
  {
   "cell_type": "code",
   "execution_count": null,
   "metadata": {},
   "outputs": [],
   "source": [
    "dataset_name = \"airport\"\n",
    "total_stratum = total_stratum_number(dataset_name)\n",
    "\n",
    "budgets = []\n",
    "for i in range(1, total_stratum+1):\n",
    "    budgets.append(utils.stratum_instance_number(i, get_nb_features(dataset_name))+2)\n",
    "\n",
    "number_of_runs = 5\n",
    "\n",
    "for method in Method:\n",
    "    start_experiment(\n",
    "        method=method,\n",
    "        game=Game.AIRPORT,\n",
    "        budgets=budgets,\n",
    "        number_of_runs=number_of_runs\n",
    "    )"
   ]
  },
  {
   "cell_type": "markdown",
   "metadata": {},
   "source": [
    "### 4.2 SOUG Game"
   ]
  },
  {
   "cell_type": "code",
   "execution_count": null,
   "metadata": {},
   "outputs": [],
   "source": [
    "dataset_name = \"soug\"\n",
    "total_stratum = total_stratum_number(dataset_name)\n",
    "\n",
    "budgets = []\n",
    "for i in range(1, total_stratum+1):\n",
    "    budgets.append(utils.stratum_instance_number(i, get_nb_features(dataset_name))+2)\n",
    "\n",
    "number_of_runs = 5\n",
    "\n",
    "for method in Method:\n",
    "    start_experiment(\n",
    "        method=method,\n",
    "        game=Game.SOUG,\n",
    "        budgets=budgets,\n",
    "        number_of_runs=number_of_runs\n",
    "    )"
   ]
  },
  {
   "cell_type": "markdown",
   "metadata": {},
   "source": [
    "### 4.3 Shoes Game"
   ]
  },
  {
   "cell_type": "code",
   "execution_count": null,
   "metadata": {},
   "outputs": [],
   "source": [
    "dataset_name = \"shoes\"\n",
    "total_stratum = total_stratum_number(dataset_name)\n",
    "\n",
    "budgets = []\n",
    "for i in range(1, total_stratum+1):\n",
    "    budgets.append(utils.stratum_instance_number(i, get_nb_features(dataset_name))+2)\n",
    "\n",
    "number_of_runs = 5\n",
    "\n",
    "for method in Method:\n",
    "    start_experiment(\n",
    "        method=method,\n",
    "        game=Game.SHOES,\n",
    "        budgets=budgets,\n",
    "        number_of_runs=number_of_runs\n",
    "    )"
   ]
  }
 ],
 "metadata": {
  "kernelspec": {
   "display_name": "base",
   "language": "python",
   "name": "python3"
  },
  "language_info": {
   "codemirror_mode": {
    "name": "ipython",
    "version": 3
   },
   "file_extension": ".py",
   "mimetype": "text/x-python",
   "name": "python",
   "nbconvert_exporter": "python",
   "pygments_lexer": "ipython3",
   "version": "3.9.12"
  }
 },
 "nbformat": 4,
 "nbformat_minor": 2
}
